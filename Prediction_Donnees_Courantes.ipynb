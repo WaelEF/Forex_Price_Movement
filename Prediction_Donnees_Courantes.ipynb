{
 "cells": [
  {
   "cell_type": "code",
   "execution_count": 2,
   "metadata": {},
   "outputs": [],
   "source": [
    "import numpy as np\n",
    "import pandas as pd\n",
    "\n",
    "\n",
    "import os\n",
    "import tensorflow as tf\n",
    "\n",
    "import nbimporter\n",
    "from feature_functions import *\n",
    "\n",
    "from collections import deque\n",
    "\n",
    "from alpha_vantage.timeseries import TimeSeries\n",
    "\n",
    "%matplotlib inline"
   ]
  },
  {
   "cell_type": "code",
   "execution_count": 3,
   "metadata": {},
   "outputs": [],
   "source": [
    "from alpha_vantage.timeseries import TimeSeries"
   ]
  },
  {
   "cell_type": "code",
   "execution_count": 4,
   "metadata": {},
   "outputs": [],
   "source": [
    "cle_api = 'JBQR4M9YCQRT0EWV'"
   ]
  },
  {
   "cell_type": "code",
   "execution_count": 5,
   "metadata": {},
   "outputs": [],
   "source": [
    "ts= TimeSeries(key=cle_api, output_format='pandas')"
   ]
  },
  {
   "cell_type": "code",
   "execution_count": 6,
   "metadata": {},
   "outputs": [],
   "source": [
    "data,meta_data=ts.get_intraday(symbol='EURUSD',interval='60min',outputsize='full')"
   ]
  },
  {
   "cell_type": "code",
   "execution_count": 7,
   "metadata": {},
   "outputs": [],
   "source": [
    "data.loc[::-1,].to_excel(\"Bases de Donnees/Base_Courante.xlsx\")"
   ]
  },
  {
   "cell_type": "code",
   "execution_count": 8,
   "metadata": {},
   "outputs": [
    {
     "data": {
      "text/plain": [
       "<bound method NDFrame.tail of                      1. open  2. high  3. low  4. close  5. volume\n",
       "date                                                              \n",
       "2020-07-26 19:00:00   1.1653   1.1656  1.1641    1.1649        0.0\n",
       "2020-07-26 20:00:00   1.1650   1.1699  1.1648    1.1689        0.0\n",
       "2020-07-26 21:00:00   1.1688   1.1699  1.1684    1.1692        0.0\n",
       "2020-07-26 22:00:00   1.1692   1.1716  1.1688    1.1710        0.0\n",
       "2020-07-26 23:00:00   1.1710   1.1725  1.1706    1.1711        0.0\n",
       "...                      ...      ...     ...       ...        ...\n",
       "2020-08-20 17:00:00   1.1861   1.1863  1.1854    1.1861        0.0\n",
       "2020-08-20 18:00:00   1.1860   1.1866  1.1859    1.1865        0.0\n",
       "2020-08-20 19:00:00   1.1865   1.1871  1.1863    1.1869        0.0\n",
       "2020-08-20 20:00:00   1.1869   1.1877  1.1866    1.1874        0.0\n",
       "2020-08-20 21:00:00   1.1874   1.1875  1.1863    1.1867        0.0\n",
       "\n",
       "[456 rows x 5 columns]>"
      ]
     },
     "execution_count": 8,
     "metadata": {},
     "output_type": "execute_result"
    }
   ],
   "source": [
    "data.loc[::-1,].tail"
   ]
  },
  {
   "cell_type": "code",
   "execution_count": 9,
   "metadata": {},
   "outputs": [],
   "source": [
    "def data_prep(data):\n",
    "    Data = data.copy()\n",
    "    Data =  Data.loc[::-1,]\n",
    "\n",
    "    Data.columns = ['open','high','low','close','volume']\n",
    "\n",
    "    Data.drop(columns='volume',inplace=True)\n",
    "\n",
    "    Data.head()\n",
    "\n",
    "    Base = heikenashi(Data,[1])\n",
    "\n",
    "\n",
    "    Base.columns=['open','high','low','close']\n",
    "    Base.head()\n",
    "\n",
    "    res = momentum(Base,[10]).close[10]\n",
    "    Base=Base.loc[Base.index[10]:]\n",
    "    Base['momentum'] = res\n",
    "\n",
    "    Base['return'] = Base['close'] - Base['close'].shift(1)\n",
    "\n",
    "    Base['label'] = Base['return'].shift(-1)\n",
    "    Base['label'] = Base['label'].apply(lambda x: 1 if x>0.0 else 0)\n",
    "    Base.dropna(inplace=True)\n",
    "\n",
    "    Base.dropna(inplace=True)\n",
    "\n",
    "    DF = Base.loc[:,['momentum','return','label']]\n",
    "    DF.dropna(inplace=True)\n",
    "    return(DF)"
   ]
  },
  {
   "cell_type": "code",
   "execution_count": 10,
   "metadata": {},
   "outputs": [],
   "source": [
    "DF = data_prep(data)"
   ]
  },
  {
   "cell_type": "code",
   "execution_count": 11,
   "metadata": {},
   "outputs": [],
   "source": [
    "DF_Norm = DF.copy()"
   ]
  },
  {
   "cell_type": "code",
   "execution_count": 12,
   "metadata": {},
   "outputs": [],
   "source": [
    "def normalisation(data):\n",
    "    momentum_ecartype =data['momentum'].std()\n",
    "    momentum_mean =data['momentum'].mean()\n",
    "    return_ecartype =data['return'].std()\n",
    "    return_mean = data['return'].mean()\n",
    "    data.loc[:,'momentum'] = data['momentum'] - momentum_mean\n",
    "    data.loc[:,'momentum'] = data['momentum']/momentum_ecartype\n",
    "    data.loc[:,'return'] = data['return'] - return_mean\n",
    "    data.loc[:,'return'] = data['return']/return_ecartype"
   ]
  },
  {
   "cell_type": "code",
   "execution_count": 13,
   "metadata": {},
   "outputs": [],
   "source": [
    "normalisation(DF_Norm)"
   ]
  },
  {
   "cell_type": "code",
   "execution_count": 14,
   "metadata": {},
   "outputs": [],
   "source": [
    "n_features =60"
   ]
  },
  {
   "cell_type": "code",
   "execution_count": 15,
   "metadata": {},
   "outputs": [],
   "source": [
    "def sequencement(data,memoire):\n",
    "    sequences = []\n",
    "    prev_hours = deque(maxlen=memoire)\n",
    "    for observation in data.values:\n",
    "        prev_hours.append([x for x in observation[:-1]])  \n",
    "        if len(prev_hours) == memoire:\n",
    "            sequences.append([np.array(prev_hours), observation[-1]])    \n",
    "    return sequences"
   ]
  },
  {
   "cell_type": "code",
   "execution_count": 16,
   "metadata": {},
   "outputs": [],
   "source": [
    "sequences = sequencement(DF_Norm,n_features)"
   ]
  },
  {
   "cell_type": "code",
   "execution_count": 17,
   "metadata": {},
   "outputs": [],
   "source": [
    "def prep_prediction(sequences):\n",
    "    X= np.array([exemple[0] for exemple in sequences])\n",
    "    Y= np.array([int(exemple[1]) for exemple in sequences])\n",
    "    \n",
    "    Y.shape = (Y.shape[0],1)\n",
    "    Y= [int(x) for x in Y]\n",
    "    return X,Y"
   ]
  },
  {
   "cell_type": "code",
   "execution_count": 18,
   "metadata": {},
   "outputs": [],
   "source": [
    "x_to_pred,y_data = prep_prediction(sequences)"
   ]
  },
  {
   "cell_type": "code",
   "execution_count": 19,
   "metadata": {},
   "outputs": [],
   "source": [
    "def prediction(x_to_predict,model):\n",
    "    predicted_y = ([x[1] for x in np.round(model.predict(x_to_predict))])\n",
    "    return(predicted_y)"
   ]
  },
  {
   "cell_type": "code",
   "execution_count": 20,
   "metadata": {},
   "outputs": [],
   "source": [
    "modele = tf.keras.models.load_model('Modeles/RNN')"
   ]
  },
  {
   "cell_type": "code",
   "execution_count": 21,
   "metadata": {},
   "outputs": [],
   "source": [
    "y_predicted = prediction(x_to_pred,modele)"
   ]
  },
  {
   "cell_type": "code",
   "execution_count": 42,
   "metadata": {},
   "outputs": [],
   "source": [
    "def calc_profit(row,contracts,commission=0):\n",
    "    if row['won']:\n",
    "        return abs(row['return'])*contracts - 4/1000\n",
    "    else:\n",
    "        return -abs(row['return'])*contracts - (2000/100000)*9\n",
    "\n",
    "def backtest(data,predicted_y,y_data,memoire,contracts=2000,retour=False,plot=True):\n",
    "    df_trade = pd.DataFrame(np.array(data['return'][n_features-1:]), columns=['return'])\n",
    "    df_trade['label']  = y_data\n",
    "    df_trade['pred']   = predicted_y\n",
    "    df_trade['won']    = df_trade['label'] == df_trade['pred']\n",
    "    df_trade.drop(df_trade.index[len(df_trade)-1], inplace=True)\n",
    "\n",
    "    df_trade['pnl'] = df_trade.apply(lambda row: calc_profit(row,contracts), axis=1)\n",
    "    df_trade['equity'] = df_trade['pnl'].cumsum()\n",
    "    if(plot):\n",
    "        df_trade.plot(y='equity', figsize=(20,4), title=f'Backtest : {int(contracts)}$ par Transaction')\n",
    "        plt.xlabel('Nombre de Trades')\n",
    "        plt.ylabel('Profit (USD)')\n",
    "        for r in df_trade.iterrows():\n",
    "            if r[1]['won']:\n",
    "                plt.axvline(x=r[0], linewidth=1, alpha=0.8, color='g')\n",
    "            else:\n",
    "                plt.axvline(x=r[0], linewidth=1, alpha=0.8, color='r')\n",
    "    if(retour):\n",
    "        return(df_trade)\n"
   ]
  },
  {
   "cell_type": "code",
   "execution_count": 43,
   "metadata": {
    "scrolled": true
   },
   "outputs": [
    {
     "data": {
      "image/png": "[encoded data removed]",
      "text/plain": [
       "<Figure size 1440x288 with 1 Axes>"
      ]
     },
     "metadata": {
      "needs_background": "light"
     },
     "output_type": "display_data"
    }
   ],
   "source": [
    "backtest(DF,y_predicted,y_data,n_features,2000)"
   ]
  },
  {
   "cell_type": "code",
   "execution_count": 44,
   "metadata": {},
   "outputs": [],
   "source": [
    "def resume(df_trade):\n",
    "    n_win_trades = float(df_trade[df_trade['pnl']>0.0]['pnl'].count())\n",
    "    n_los_trades = float(df_trade[df_trade['pnl']<0.0]['pnl'].count())\n",
    "    print(\"Profit Net : $%.2f\" % df_trade.tail(1)['equity'])\n",
    "    print(\"Nombre de prédictions justes : %d\" % n_win_trades)\n",
    "    print(\"Number de prédictions fausses  : %d\" % n_los_trades)\n",
    "    print(\"Précision    : %.2f%%\" % (100*n_win_trades/(n_win_trades + n_los_trades)))\n",
    "    print(\"Moyenne par Transaction Gagnée : $%.3f\" % df_trade[df_trade['pnl']>0.0]['pnl'].mean())\n",
    "    print(\"Moyenne par Transaction Perdue  : $%.3f\" % df_trade[df_trade['pnl']<0.0]['pnl'].mean())\n",
    "    print(\"Gain le plus important   : $%.3f\" % df_trade[df_trade['pnl']>0.0]['pnl'].max())\n",
    "    print(\"Perte la plus importante  : $%.3f\" % df_trade[df_trade['pnl']<0.0]['pnl'].min())\n",
    "\n",
    "    df_trade['pnl'].hist(bins=20)"
   ]
  },
  {
   "cell_type": "code",
   "execution_count": 45,
   "metadata": {},
   "outputs": [
    {
     "name": "stdout",
     "output_type": "stream",
     "text": [
      "Profit Net : $3.70\n",
      "Nombre de prédictions justes : 195\n",
      "Number de prédictions fausses  : 190\n",
      "Précision    : 50.65%\n",
      "Moyenne par Transaction Gagnée : $1.227\n",
      "Moyenne par Transaction Perdue  : $-1.239\n",
      "Gain le plus important   : $5.620\n",
      "Perte la plus importante  : $-5.530\n"
     ]
    },
    {
     "data": {
      "image/png": "[encoded data removed]",
      "text/plain": [
       "<Figure size 432x288 with 1 Axes>"
      ]
     },
     "metadata": {
      "needs_background": "light"
     },
     "output_type": "display_data"
    }
   ],
   "source": [
    "resume(backtest(DF,y_predicted,y_data,n_features,2000,plot=False,retour=True))"
   ]
  },
  {
   "cell_type": "code",
   "execution_count": null,
   "metadata": {},
   "outputs": [],
   "source": []
  },
  {
   "cell_type": "code",
   "execution_count": null,
   "metadata": {},
   "outputs": [],
   "source": []
  }
 ],
 "metadata": {
  "kernelspec": {
   "display_name": "Python 3",
   "language": "python",
   "name": "python3"
  },
  "language_info": {
   "codemirror_mode": {
    "name": "ipython",
    "version": 3
   },
   "file_extension": ".py",
   "mimetype": "text/x-python",
   "name": "python",
   "nbconvert_exporter": "python",
   "pygments_lexer": "ipython3",
   "version": "3.7.7"
  }
 },
 "nbformat": 4,
 "nbformat_minor": 4
}
