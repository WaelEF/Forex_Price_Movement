{
 "cells": [
  {
   "cell_type": "code",
   "execution_count": 31,
   "metadata": {
    "scrolled": true
   },
   "outputs": [],
   "source": [
    "import pandas as pd\n",
    "import plotly as py\n",
    "from plotly import tools\n",
    "import plotly.graph_objects as go\n",
    "import matplotlib.pyplot as plt\n",
    "from matplotlib.dates import date2num\n",
    "from datetime import datetime\n",
    "import numpy as np\n",
    "\n",
    "from scipy import stats\n",
    "import scipy.optimize\n",
    "from scipy.optimize import OptimizeWarning\n",
    "import warnings\n",
    "import math\n",
    "\n",
    "\n",
    "import nbimporter\n",
    "from feature_functions import *\n",
    "\n",
    "import sklearn\n",
    "from sklearn import linear_model\n",
    "from sklearn.svm import SVC\n",
    "from sklearn.metrics import accuracy_score"
   ]
  },
  {
   "cell_type": "code",
   "execution_count": 33,
   "metadata": {
    "scrolled": false
   },
   "outputs": [],
   "source": [
    "df=pd.read_csv('EURUSD.csv')\n",
    "df.columns=['date','open','high','low','close','volume']\n",
    "df.date = pd.to_datetime(df.date,format='%d.%m.%Y %H:%M:%S.%f')\n",
    "df=df.set_index(df.date)\n",
    "df=df[['open','high','low','close','volume']]"
   ]
  },
  {
   "cell_type": "code",
   "execution_count": 34,
   "metadata": {},
   "outputs": [],
   "source": [
    "df = heikenashi(df,[1])\n",
    "df.columns=['open','high','low','close']"
   ]
  },
  {
   "cell_type": "code",
   "execution_count": 35,
   "metadata": {},
   "outputs": [],
   "source": [
    "res = momentum(df,[10]).close[10]\n",
    "df=df.loc[df.index[10]:]\n",
    "df['momentum'] = res"
   ]
  },
  {
   "cell_type": "code",
   "execution_count": 36,
   "metadata": {
    "scrolled": false
   },
   "outputs": [],
   "source": [
    "df['return'] = df['close'] - df['close'].shift(1)\n",
    "\n",
    "df['label'] = df['return'].shift(-1)\n",
    "df['label'] = df['label'].apply(lambda x: 1 if x>0.0 else 0)\n",
    "df.dropna(inplace=True)\n",
    "\n"
   ]
  },
  {
   "cell_type": "code",
   "execution_count": 37,
   "metadata": {
    "scrolled": false
   },
   "outputs": [],
   "source": [
    "# Make training dataset\n",
    "\n",
    "n_features = 60 # number of features\n",
    "\n",
    "train_x = np.array([]).reshape([-1,n_features])\n",
    "train_y = np.array([]).reshape([-1,1])\n",
    "for index, row in df.iterrows():\n",
    "    \n",
    "    i = df.index.get_loc(index)\n",
    "    if i<n_features:\n",
    "        continue\n",
    "                \n",
    "    _x = np.array(df[i-n_features+1:i+1]['return']).T.reshape([1, -1])\n",
    "    #_x= np.append(_x,np.float(df['momentum'][i])) \n",
    "    \n",
    "    _y = df['label'][i]\n",
    "    train_x = np.vstack((train_x, _x))\n",
    "    train_y = np.vstack((train_y, _y))\n",
    "train_y = train_y.reshape([-1])\n",
    "#print(train_x[-1])\n",
    "#print(train_x.shape)\n",
    "#print(train_y.shape)\n",
    "#print('%% of Class0 : %f' % (np.count_nonzero(train_y == 0)/float(len(train_y))))\n",
    "#print('%% of Class1 : %f' % (np.count_nonzero(train_y == 1)/float(len(train_y))))"
   ]
  },
  {
   "cell_type": "code",
   "execution_count": 38,
   "metadata": {
    "scrolled": false
   },
   "outputs": [
    {
     "data": {
      "text/plain": [
       "Pipeline(steps=[('scaler', StandardScaler()),\n",
       "                ('linear_svc',\n",
       "                 LinearSVC(C=1, loss='hinge', max_iter=10000000))])"
      ]
     },
     "execution_count": 38,
     "metadata": {},
     "output_type": "execute_result"
    }
   ],
   "source": [
    "#Support Vector Classifier (SVC)\n",
    "from sklearn.svm import LinearSVC\n",
    "from sklearn.pipeline import Pipeline\n",
    "from sklearn.preprocessing import StandardScaler\n",
    "#cls = sklearn.linear_model.LinearSVC.fit(train_x, train_y)\n",
    "svm_clf = Pipeline([(\"scaler\",StandardScaler()),(\"linear_svc\",LinearSVC(C=1,loss=\"hinge\",max_iter=10000000)),])\n",
    "\n",
    "cls = svm_clf\n",
    "LinearSVC\n",
    "train_len = int(len(train_x)*0.95)\n",
    "cls.fit(train_x[:train_len], train_y[:train_len])\n",
    "\n",
    "#accuracy = cls.score(train_x[train_len:], train_y[train_len:])\n",
    "#print('Testing Accuracy: %f' % accuracy)\n",
    "\n",
    "\n",
    "\n",
    "\n",
    "#accuracy_train = accuracy_score(tain_y.dropna(), cls.predict(train_x.dropna()))\n",
    "#accuracy_test = accuracy_score(y_test, cls.predict(X_test))\n",
    "\n",
    "#print('\\nTrain Accuracy:{: .2f}%'.format(accuracy_train*100))\n",
    "#print('Test Accuracy:{: .2f}%'.format(accuracy_test*100))"
   ]
  },
  {
   "cell_type": "code",
   "execution_count": 39,
   "metadata": {
    "scrolled": true
   },
   "outputs": [
    {
     "name": "stdout",
     "output_type": "stream",
     "text": [
      "\n",
      "Train Accuracy: 65.60%\n"
     ]
    }
   ],
   "source": [
    "accuracy_train = accuracy_score(train_y[:train_len], cls.predict(train_x[:train_len]))\n",
    "print('\\nTrain Accuracy:{: .2f}%'.format(accuracy_train*100))"
   ]
  },
  {
   "cell_type": "code",
   "execution_count": null,
   "metadata": {},
   "outputs": [],
   "source": [
    "pred = cls.predict(train_x[train_len:])\n",
    "\n",
    "contracts  = 2000.0\n",
    "commission = 0.0\n",
    "def calc_profit(row):\n",
    "    if row['won']:\n",
    "        return abs(row['return'])*contracts - commission\n",
    "    else:\n",
    "        return -abs(row['return'])*contracts - commission"
   ]
  },
  {
   "cell_type": "code",
   "execution_count": 42,
   "metadata": {},
   "outputs": [
    {
     "data": {
      "image/png": "[encoded data removed]",
      "text/plain": [
       "<Figure size 1440x288 with 1 Axes>"
      ]
     },
     "metadata": {
      "needs_background": "light"
     },
     "output_type": "display_data"
    }
   ],
   "source": [
    "df_trade = pd.DataFrame(np.array(df['return'][train_len+60:]), columns=['return'])\n",
    "df_trade['label']  = train_y[train_len:]\n",
    "df_trade['pred']   = pred\n",
    "df_trade['won']    = df_trade['label'] == df_trade['pred']\n",
    "df_trade.drop(df_trade.index[len(df_trade)-1], inplace=True)\n",
    "\n",
    "df_trade['pnl'] = df_trade.apply(lambda row: calc_profit(row), axis=1)\n",
    "df_trade['equity'] = df_trade['pnl'].cumsum()\n",
    "df_trade.plot(y='equity', figsize=(20,4), title=f'Backtest with {int(contracts)}$ initial capital')\n",
    "plt.xlabel('Trades')\n",
    "plt.ylabel('Equity (USD)')\n",
    "for r in df_trade.iterrows():\n",
    "    if r[1]['won']:\n",
    "        plt.axvline(x=r[0], linewidth=1, alpha=0.8, color='g')\n",
    "    else:\n",
    "        plt.axvline(x=r[0], linewidth=1, alpha=0.8, color='r')"
   ]
  },
  {
   "cell_type": "code",
   "execution_count": 43,
   "metadata": {
    "scrolled": false
   },
   "outputs": [
    {
     "name": "stdout",
     "output_type": "stream",
     "text": [
      "Net Profit            : $82.13\n",
      "Number Winning Trades : 198\n",
      "Number Losing Trades  : 96\n",
      "Percent Profitable    : 67.35%\n",
      "Avg Win Trade         : $0.668\n",
      "Avg Los Trade         : $-0.522\n",
      "Largest Win Trade     : $3.115\n",
      "Largest Los Trade     : $-2.225\n",
      "Profit Factor         : 2.64\n"
     ]
    },
    {
     "data": {
      "text/plain": [
       "<matplotlib.axes._subplots.AxesSubplot at 0x10e369dbf88>"
      ]
     },
     "execution_count": 43,
     "metadata": {},
     "output_type": "execute_result"
    },
    {
     "data": {
      "image/png": "[encoded data removed]",
      "text/plain": [
       "<Figure size 432x288 with 1 Axes>"
      ]
     },
     "metadata": {
      "needs_background": "light"
     },
     "output_type": "display_data"
    }
   ],
   "source": [
    "# Calculate summary of trades\n",
    "n_win_trades = float(df_trade[df_trade['pnl']>0.0]['pnl'].count())\n",
    "n_los_trades = float(df_trade[df_trade['pnl']<0.0]['pnl'].count())\n",
    "print(\"Net Profit            : $%.2f\" % df_trade.tail(1)['equity'])\n",
    "print(\"Number Winning Trades : %d\" % n_win_trades)\n",
    "print(\"Number Losing Trades  : %d\" % n_los_trades)\n",
    "print(\"Percent Profitable    : %.2f%%\" % (100*n_win_trades/(n_win_trades + n_los_trades)))\n",
    "print(\"Avg Win Trade         : $%.3f\" % df_trade[df_trade['pnl']>0.0]['pnl'].mean())\n",
    "print(\"Avg Los Trade         : $%.3f\" % df_trade[df_trade['pnl']<0.0]['pnl'].mean())\n",
    "print(\"Largest Win Trade     : $%.3f\" % df_trade[df_trade['pnl']>0.0]['pnl'].max())\n",
    "print(\"Largest Los Trade     : $%.3f\" % df_trade[df_trade['pnl']<0.0]['pnl'].min())\n",
    "print(\"Profit Factor         : %.2f\" % abs(df_trade[df_trade['pnl']>0.0]['pnl'].sum()/df_trade[df_trade['pnl']<0.0]['pnl'].sum()))\n",
    "\n",
    "df_trade['pnl'].hist(bins=20)"
   ]
  },
  {
   "cell_type": "code",
   "execution_count": null,
   "metadata": {},
   "outputs": [],
   "source": []
  },
  {
   "cell_type": "code",
   "execution_count": 30,
   "metadata": {
    "scrolled": true
   },
   "outputs": [
    {
     "name": "stdout",
     "output_type": "stream",
     "text": [
      "TP = 102\n",
      "TN = 101\n",
      "FP = 52\n",
      "FN = 54\n",
      "TPR = 0.653846\n",
      "FPR = 0.339869\n"
     ]
    }
   ],
   "source": [
    "#matrice de confusion \n",
    "true_data = df_trade[df_trade['pred']==df_trade['label']]\n",
    "false_data = df_trade[df_trade['pred']!=df_trade['label']]\n",
    "\n",
    "#True positive\n",
    "TP = true_data[true_data['label']==1].shape[0] \n",
    "print(\"TP = %d\" % TP)\n",
    "#True negative\n",
    "TN = true_data[true_data['label']==0].shape[0] \n",
    "print(\"TN = %d\" % TN)\n",
    "#false positive \n",
    "FP = df_trade[df_trade['pred']==1].shape[0] - TP \n",
    "print(\"FP = %d\" % FP)\n",
    "#false negative\n",
    "FN = df_trade[df_trade['pred']==0].shape[0] - TN \n",
    "print(\"FN = %d\" % FN)\n",
    "\n",
    "#True positive rate \n",
    "TPR = TP/(TP+FN)\n",
    "print(\"TPR = %f\" % TPR)\n",
    "\n",
    "#False positive rate \n",
    "FPR = FP/(FP+TN)\n",
    "print(\"FPR = %f\" % FPR)"
   ]
  }
 ],
 "metadata": {
  "kernelspec": {
   "display_name": "Python 3",
   "language": "python",
   "name": "python3"
  },
  "language_info": {
   "codemirror_mode": {
    "name": "ipython",
    "version": 3
   },
   "file_extension": ".py",
   "mimetype": "text/x-python",
   "name": "python",
   "nbconvert_exporter": "python",
   "pygments_lexer": "ipython3",
   "version": "3.7.7"
  }
 },
 "nbformat": 4,
 "nbformat_minor": 2
}
