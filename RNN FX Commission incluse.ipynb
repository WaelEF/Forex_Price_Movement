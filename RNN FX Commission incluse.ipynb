{
 "cells": [
  {
   "cell_type": "code",
   "execution_count": 1,
   "metadata": {},
   "outputs": [
    {
     "name": "stdout",
     "output_type": "stream",
     "text": [
      "Importing Jupyter notebook from feature_functions.ipynb\n"
     ]
    }
   ],
   "source": [
    "import pandas as pd\n",
    "import mplfinance\n",
    "from matplotlib.dates import date2num\n",
    "from datetime import datetime\n",
    "import numpy as np\n",
    "\n",
    "from scipy import stats\n",
    "import scipy.optimize\n",
    "from scipy.optimize import OptimizeWarning\n",
    "import warnings\n",
    "import math\n",
    "\n",
    "\n",
    "import os\n",
    "import time\n",
    "import nbimporter\n",
    "from feature_functions import *\n",
    "from tensorflow.keras.utils import plot_model\n",
    "\n",
    "import sklearn\n",
    "from collections import deque\n"
   ]
  },
  {
   "cell_type": "code",
   "execution_count": 2,
   "metadata": {},
   "outputs": [],
   "source": [
    "Comission = 8/100000"
   ]
  },
  {
   "cell_type": "code",
   "execution_count": 3,
   "metadata": {},
   "outputs": [],
   "source": [
    "# import os\n",
    "# os.environ[\"CUDA_VISIBLE_DEVICES\"] = \"-1\""
   ]
  },
  {
   "cell_type": "code",
   "execution_count": 4,
   "metadata": {},
   "outputs": [],
   "source": [
    "import tensorflow as tf\n",
    "from tensorflow.keras import Sequential\n",
    "from tensorflow.keras.layers import Dense\n",
    "from numpy import sqrt"
   ]
  },
  {
   "cell_type": "code",
   "execution_count": 5,
   "metadata": {},
   "outputs": [],
   "source": [
    "df=pd.read_csv('EURUSD.csv')\n",
    "df.columns=['date','open','high','low','close','volume']\n",
    "df.date = pd.to_datetime(df.date,format='%d.%m.%Y %H:%M:%S.%f')\n",
    "df=df.set_index(df.date)\n",
    "df=df[['open','high','low','close','volume']]"
   ]
  },
  {
   "cell_type": "code",
   "execution_count": 6,
   "metadata": {},
   "outputs": [],
   "source": [
    "df = heikenashi(df,[1])\n",
    "df.columns=['open','high','low','close']"
   ]
  },
  {
   "cell_type": "code",
   "execution_count": 7,
   "metadata": {},
   "outputs": [],
   "source": [
    "res = momentum(df,[10]).close[10]\n",
    "df=df.loc[df.index[10]:]\n",
    "df['momentum'] = res"
   ]
  },
  {
   "cell_type": "code",
   "execution_count": 8,
   "metadata": {},
   "outputs": [],
   "source": [
    "def creation_label(variation,comission=Comission):\n",
    "    if variation > comission:\n",
    "        return 2\n",
    "    elif variation< -comission:\n",
    "        return 1\n",
    "    else:\n",
    "        return 0"
   ]
  },
  {
   "cell_type": "code",
   "execution_count": 10,
   "metadata": {},
   "outputs": [],
   "source": [
    "df['return'] = df['close'] - df['close'].shift(1)\n",
    "\n",
    "df['label'] = df['return'].shift(-1).apply(lambda var: creation_label(var))\n",
    "\n",
    "df.dropna(inplace=True)\n",
    "\n"
   ]
  },
  {
   "cell_type": "code",
   "execution_count": 11,
   "metadata": {},
   "outputs": [],
   "source": [
    "data = df.loc[:,['momentum','return','label']]"
   ]
  },
  {
   "cell_type": "code",
   "execution_count": 12,
   "metadata": {},
   "outputs": [],
   "source": [
    "from sklearn import preprocessing"
   ]
  },
  {
   "cell_type": "code",
   "execution_count": 13,
   "metadata": {},
   "outputs": [],
   "source": [
    "data_norm = data.copy()"
   ]
  },
  {
   "cell_type": "code",
   "execution_count": 14,
   "metadata": {},
   "outputs": [],
   "source": [
    "momentum_ecartype = data['momentum'].std()\n",
    "momentum_mean = data['momentum'].mean()\n",
    "return_ecartype = data['return'].std()\n",
    "return_mean = np.array(data['return']).mean()"
   ]
  },
  {
   "cell_type": "code",
   "execution_count": 15,
   "metadata": {
    "scrolled": true
   },
   "outputs": [],
   "source": [
    "data_norm.loc[:,'momentum'] = data_norm['momentum'] - momentum_mean\n",
    "data_norm.loc[:,'momentum'] = data_norm['momentum']/momentum_ecartype\n",
    "data_norm.loc[:,'return'] = data_norm['return'] - return_mean\n",
    "data_norm.loc[:,'return'] = data_norm['return']/return_ecartype"
   ]
  },
  {
   "cell_type": "code",
   "execution_count": 16,
   "metadata": {},
   "outputs": [],
   "source": [
    "n_features =60"
   ]
  },
  {
   "cell_type": "code",
   "execution_count": 17,
   "metadata": {},
   "outputs": [
    {
     "name": "stdout",
     "output_type": "stream",
     "text": [
      "0.2453322410583496\n"
     ]
    }
   ],
   "source": [
    "start = time.time()\n",
    "sequences = []\n",
    "prev_hours = deque(maxlen=n_features)\n",
    "\n",
    "for observation in data_norm.values:\n",
    "    prev_hours.append([x for x in observation[:-1]])  \n",
    "    if len(prev_hours) == n_features: \n",
    "        sequences.append([np.array(prev_hours), observation[-1]])\n",
    "        \n",
    "end = time.time()\n",
    "\n",
    "print(end - start)\n"
   ]
  },
  {
   "cell_type": "code",
   "execution_count": 18,
   "metadata": {},
   "outputs": [],
   "source": [
    "from sklearn.pipeline import Pipeline\n",
    "from sklearn.preprocessing import StandardScaler"
   ]
  },
  {
   "cell_type": "code",
   "execution_count": 19,
   "metadata": {},
   "outputs": [],
   "source": [
    "X = np.array([exemple[0] for exemple in sequences])\n",
    "Y = np.array([int(exemple[1]) for exemple in sequences])\n",
    "\n",
    "train_len = int(len(sequences)*0.90)\n",
    "valid_len = int(len(sequences)*0.95)\n",
    "\n",
    "Y.shape = (Y.shape[0],1)\n",
    "x_train=X[1:train_len]\n",
    "y_train=Y[1:train_len]\n",
    "x_valid = X[train_len:valid_len]\n",
    "y_valid = Y[train_len:valid_len]\n",
    "x_test = X[valid_len:]\n",
    "y_test= Y[valid_len:]\n",
    "y_train =np.array([int(x) for x in y_train ])\n",
    "y_valid = np.array([int(x) for x in y_valid ])\n",
    "y_test = [int(x) for x in y_test ]"
   ]
  },
  {
   "cell_type": "code",
   "execution_count": 20,
   "metadata": {},
   "outputs": [],
   "source": [
    "from sklearn.preprocessing import LabelEncoder\n"
   ]
  },
  {
   "cell_type": "code",
   "execution_count": 22,
   "metadata": {},
   "outputs": [],
   "source": [
    "import tensorflow as tf\n",
    "from tensorflow.keras.models import Sequential\n",
    "from tensorflow.keras.layers import LSTM, Dense,Dropout,BatchNormalization"
   ]
  },
  {
   "cell_type": "code",
   "execution_count": 23,
   "metadata": {},
   "outputs": [],
   "source": [
    "model = Sequential()\n",
    "model.add(LSTM(128, input_shape=(x_train.shape[1:]), return_sequences=True))\n",
    "model.add(BatchNormalization())\n",
    "\n",
    "\n",
    "model.add(LSTM(128,input_shape=(x_train.shape[1:]), return_sequences=True))\n",
    "model.add(BatchNormalization())\n",
    "\n",
    "\n",
    "model.add(LSTM(64,input_shape=(x_train.shape[1:]), return_sequences=True))\n",
    "model.add(BatchNormalization())\n",
    "\n",
    "model.add(LSTM(64,input_shape=(x_train.shape[1:])))\n",
    "model.add(BatchNormalization())\n",
    "\n",
    "\n",
    "model.add(Dense(32, activation='relu'))\n",
    "model.add(Dense(16, activation='relu'))\n",
    "model.add(Dense(8, activation='relu'))\n",
    "\n",
    "model.add(Dense(3, activation='softmax'))"
   ]
  },
  {
   "cell_type": "code",
   "execution_count": 24,
   "metadata": {},
   "outputs": [],
   "source": [
    "opt = tf.keras.optimizers.Adam(lr=0.001, decay=1e-5)\n",
    "\n",
    "# Compile model\n",
    "model.compile(\n",
    "    loss='sparse_categorical_crossentropy',\n",
    "    optimizer=opt,\n",
    "    metrics=['accuracy']\n",
    ")"
   ]
  },
  {
   "cell_type": "code",
   "execution_count": 25,
   "metadata": {},
   "outputs": [],
   "source": [
    "BATCH_SIZE = 128\n",
    "EPOCHS= 40"
   ]
  },
  {
   "cell_type": "code",
   "execution_count": 26,
   "metadata": {},
   "outputs": [
    {
     "name": "stdout",
     "output_type": "stream",
     "text": [
      "Train on 5573 samples, validate on 310 samples\n",
      "Epoch 1/40\n",
      "5573/5573 [==============================] - 14s 2ms/sample - loss: 1.0847 - accuracy: 0.4061 - val_loss: 1.0896 - val_accuracy: 0.3548\n",
      "Epoch 2/40\n",
      "5573/5573 [==============================] - 1s 188us/sample - loss: 1.0534 - accuracy: 0.4114 - val_loss: 1.0849 - val_accuracy: 0.3484\n",
      "Epoch 3/40\n",
      "5573/5573 [==============================] - 1s 190us/sample - loss: 1.0469 - accuracy: 0.4242 - val_loss: 1.0913 - val_accuracy: 0.3484\n",
      "Epoch 4/40\n",
      "5573/5573 [==============================] - 1s 191us/sample - loss: 1.0447 - accuracy: 0.4260 - val_loss: 1.0928 - val_accuracy: 0.3452\n",
      "Epoch 5/40\n",
      "5573/5573 [==============================] - 1s 196us/sample - loss: 1.0440 - accuracy: 0.4159 - val_loss: 1.1038 - val_accuracy: 0.3484\n",
      "Epoch 6/40\n",
      "5573/5573 [==============================] - 1s 188us/sample - loss: 1.0409 - accuracy: 0.4324 - val_loss: 1.1070 - val_accuracy: 0.3516\n",
      "Epoch 7/40\n",
      "5573/5573 [==============================] - 1s 188us/sample - loss: 1.0373 - accuracy: 0.4448 - val_loss: 1.1283 - val_accuracy: 0.3194\n",
      "Epoch 8/40\n",
      "5573/5573 [==============================] - 1s 187us/sample - loss: 1.0386 - accuracy: 0.4468 - val_loss: 1.1236 - val_accuracy: 0.3774\n",
      "Epoch 9/40\n",
      "5573/5573 [==============================] - 1s 198us/sample - loss: 1.0334 - accuracy: 0.4513 - val_loss: 1.1264 - val_accuracy: 0.3258\n",
      "Epoch 10/40\n",
      "5573/5573 [==============================] - 1s 191us/sample - loss: 1.0296 - accuracy: 0.4649 - val_loss: 1.1225 - val_accuracy: 0.3355\n",
      "Epoch 11/40\n",
      "5573/5573 [==============================] - 1s 187us/sample - loss: 1.0290 - accuracy: 0.4696 - val_loss: 1.1202 - val_accuracy: 0.3452\n",
      "Epoch 12/40\n",
      "5573/5573 [==============================] - 1s 185us/sample - loss: 1.0190 - accuracy: 0.4793 - val_loss: 1.1125 - val_accuracy: 0.4097\n",
      "Epoch 13/40\n",
      "5573/5573 [==============================] - 1s 187us/sample - loss: 1.0107 - accuracy: 0.4865 - val_loss: 1.1378 - val_accuracy: 0.3613\n",
      "Epoch 14/40\n",
      "5573/5573 [==============================] - 1s 188us/sample - loss: 1.0020 - accuracy: 0.5049 - val_loss: 1.1007 - val_accuracy: 0.4258\n",
      "Epoch 15/40\n",
      "5573/5573 [==============================] - 1s 196us/sample - loss: 0.9906 - accuracy: 0.5195 - val_loss: 1.1092 - val_accuracy: 0.4194\n",
      "Epoch 16/40\n",
      "5573/5573 [==============================] - 1s 187us/sample - loss: 0.9814 - accuracy: 0.5283 - val_loss: 1.0965 - val_accuracy: 0.4129\n",
      "Epoch 17/40\n",
      "5573/5573 [==============================] - 1s 189us/sample - loss: 0.9685 - accuracy: 0.5374 - val_loss: 1.0721 - val_accuracy: 0.4226\n",
      "Epoch 18/40\n",
      "5573/5573 [==============================] - 1s 187us/sample - loss: 0.9574 - accuracy: 0.5442 - val_loss: 1.0653 - val_accuracy: 0.4194\n",
      "Epoch 19/40\n",
      "5573/5573 [==============================] - 1s 187us/sample - loss: 0.9407 - accuracy: 0.5622 - val_loss: 1.0580 - val_accuracy: 0.4613\n",
      "Epoch 20/40\n",
      "5573/5573 [==============================] - 1s 188us/sample - loss: 0.9302 - accuracy: 0.5667 - val_loss: 1.0695 - val_accuracy: 0.4742\n",
      "Epoch 21/40\n",
      "5573/5573 [==============================] - 1s 189us/sample - loss: 0.9232 - accuracy: 0.5695 - val_loss: 1.0767 - val_accuracy: 0.4548\n",
      "Epoch 22/40\n",
      "5573/5573 [==============================] - 1s 189us/sample - loss: 0.9044 - accuracy: 0.5810 - val_loss: 1.0950 - val_accuracy: 0.4419\n",
      "Epoch 23/40\n",
      "5573/5573 [==============================] - 1s 190us/sample - loss: 0.9044 - accuracy: 0.5776 - val_loss: 1.0787 - val_accuracy: 0.4613\n",
      "Epoch 24/40\n",
      "5573/5573 [==============================] - 1s 189us/sample - loss: 0.9042 - accuracy: 0.5758 - val_loss: 1.0846 - val_accuracy: 0.4484\n",
      "Epoch 25/40\n",
      "5573/5573 [==============================] - 1s 191us/sample - loss: 0.8801 - accuracy: 0.5934 - val_loss: 1.0661 - val_accuracy: 0.4484\n",
      "Epoch 26/40\n",
      "5573/5573 [==============================] - 1s 190us/sample - loss: 0.8664 - accuracy: 0.6004 - val_loss: 1.1235 - val_accuracy: 0.4419\n",
      "Epoch 27/40\n",
      "5573/5573 [==============================] - 1s 187us/sample - loss: 0.8587 - accuracy: 0.6056 - val_loss: 1.1143 - val_accuracy: 0.4194\n",
      "Epoch 28/40\n",
      "5573/5573 [==============================] - 1s 193us/sample - loss: 0.8416 - accuracy: 0.6092 - val_loss: 1.1221 - val_accuracy: 0.4258\n",
      "Epoch 29/40\n",
      "5573/5573 [==============================] - 1s 189us/sample - loss: 0.8192 - accuracy: 0.6219 - val_loss: 1.1379 - val_accuracy: 0.4419\n",
      "Epoch 30/40\n",
      "5573/5573 [==============================] - 1s 200us/sample - loss: 0.8012 - accuracy: 0.6356 - val_loss: 1.1906 - val_accuracy: 0.4452\n",
      "Epoch 31/40\n",
      "5573/5573 [==============================] - 1s 196us/sample - loss: 0.7880 - accuracy: 0.6408 - val_loss: 1.1506 - val_accuracy: 0.3903\n",
      "Epoch 32/40\n",
      "5573/5573 [==============================] - 1s 193us/sample - loss: 0.7757 - accuracy: 0.6524 - val_loss: 1.1590 - val_accuracy: 0.4161\n",
      "Epoch 33/40\n",
      "5573/5573 [==============================] - 1s 195us/sample - loss: 0.7555 - accuracy: 0.6551 - val_loss: 1.2511 - val_accuracy: 0.4290\n",
      "Epoch 34/40\n",
      "5573/5573 [==============================] - 1s 191us/sample - loss: 0.7381 - accuracy: 0.6623 - val_loss: 1.1825 - val_accuracy: 0.4387\n",
      "Epoch 35/40\n",
      "5573/5573 [==============================] - 1s 190us/sample - loss: 0.7070 - accuracy: 0.6883 - val_loss: 1.3266 - val_accuracy: 0.4161\n",
      "Epoch 36/40\n",
      "5573/5573 [==============================] - 1s 191us/sample - loss: 0.6880 - accuracy: 0.6872 - val_loss: 1.2979 - val_accuracy: 0.4387\n",
      "Epoch 37/40\n",
      "5573/5573 [==============================] - 1s 190us/sample - loss: 0.6732 - accuracy: 0.6991 - val_loss: 1.3097 - val_accuracy: 0.4161\n",
      "Epoch 38/40\n",
      "5573/5573 [==============================] - 1s 189us/sample - loss: 0.6522 - accuracy: 0.7075 - val_loss: 1.4329 - val_accuracy: 0.4194\n",
      "Epoch 39/40\n",
      "5573/5573 [==============================] - 1s 189us/sample - loss: 0.6236 - accuracy: 0.7231 - val_loss: 1.4950 - val_accuracy: 0.4000\n",
      "Epoch 40/40\n",
      "5573/5573 [==============================] - 1s 191us/sample - loss: 0.6151 - accuracy: 0.7303 - val_loss: 1.3334 - val_accuracy: 0.4226\n"
     ]
    }
   ],
   "source": [
    "history = model.fit(\n",
    "    x_train, y_train,\n",
    "    validation_data=(x_valid,y_valid),\n",
    "    batch_size=BATCH_SIZE,\n",
    "    epochs = EPOCHS)"
   ]
  },
  {
   "cell_type": "code",
   "execution_count": 27,
   "metadata": {
    "scrolled": true
   },
   "outputs": [
    {
     "name": "stdout",
     "output_type": "stream",
     "text": [
      "Test loss: 1.1898013826339475\n",
      "Test accuracy: 0.5096774\n"
     ]
    }
   ],
   "source": [
    "score = model.evaluate(x_test, np.array(y_test), verbose=0)\n",
    "print('Test loss:', score[0])\n",
    "print('Test accuracy:', score[1])"
   ]
  },
  {
   "cell_type": "code",
   "execution_count": 27,
   "metadata": {},
   "outputs": [],
   "source": [
    "# from numba import cuda \n",
    "# device = cuda.get_current_device()\n",
    "# device.reset()"
   ]
  },
  {
   "cell_type": "code",
   "execution_count": 41,
   "metadata": {},
   "outputs": [
    {
     "data": {
      "text/plain": [
       "array([0.28384927, 0.5921279 , 0.12402279], dtype=float32)"
      ]
     },
     "execution_count": 41,
     "metadata": {},
     "output_type": "execute_result"
    }
   ],
   "source": [
    "model.predict(x_test)[2]"
   ]
  },
  {
   "cell_type": "code",
   "execution_count": 35,
   "metadata": {},
   "outputs": [],
   "source": [
    "pred = [x.argmax() for x in np.round(model.predict(x_test))]\n",
    "contracts  = 2000.0"
   ]
  },
  {
   "cell_type": "code",
   "execution_count": 36,
   "metadata": {},
   "outputs": [],
   "source": [
    "def calc_profit(row):\n",
    "    if row['won']:\n",
    "        if row['pred'] != 0:\n",
    "            return abs(row['return'])*contracts - Comission*contracts\n",
    "        else:\n",
    "            return 0\n",
    "    else:\n",
    "        if row['pred'] != 0:\n",
    "            return -abs(row['return'])*contracts - Comission*contracts\n",
    "        else:\n",
    "            return 0\n"
   ]
  },
  {
   "cell_type": "code",
   "execution_count": 37,
   "metadata": {
    "scrolled": true
   },
   "outputs": [
    {
     "data": {
      "image/png": "[encoded data removed]",
      "text/plain": [
       "<Figure size 1440x288 with 1 Axes>"
      ]
     },
     "metadata": {
      "needs_background": "light"
     },
     "output_type": "display_data"
    }
   ],
   "source": [
    "df_trade = pd.DataFrame(np.array(data['return'][valid_len+n_features-1:]), columns=['return'])\n",
    "df_trade['label']  = y_test\n",
    "df_trade['pred']   = pred\n",
    "df_trade['won']    = df_trade['label'] == df_trade['pred']\n",
    "df_trade.drop(df_trade.index[len(df_trade)-1], inplace=True)\n",
    "\n",
    "df_trade['pnl'] = df_trade.apply(lambda row: calc_profit(row), axis=1)\n",
    "df_trade['equity'] = df_trade['pnl'].cumsum()\n",
    "df_trade.plot(y='equity', figsize=(20,4), title=f'Backtest : {int(contracts)}$ par Transaction')\n",
    "plt.xlabel('Nombre de Trades')\n",
    "plt.ylabel('Profit (USD)')\n",
    "for r in df_trade.iterrows():\n",
    "    if r[1]['won']:\n",
    "        plt.axvline(x=r[0], linewidth=1, alpha=0.8, color='g')\n",
    "    else:\n",
    "        plt.axvline(x=r[0], linewidth=1, alpha=0.8, color='r')"
   ]
  },
  {
   "cell_type": "code",
   "execution_count": 38,
   "metadata": {},
   "outputs": [
    {
     "data": {
      "text/html": [
       "<div>\n",
       "<style scoped>\n",
       "    .dataframe tbody tr th:only-of-type {\n",
       "        vertical-align: middle;\n",
       "    }\n",
       "\n",
       "    .dataframe tbody tr th {\n",
       "        vertical-align: top;\n",
       "    }\n",
       "\n",
       "    .dataframe thead th {\n",
       "        text-align: right;\n",
       "    }\n",
       "</style>\n",
       "<table border=\"1\" class=\"dataframe\">\n",
       "  <thead>\n",
       "    <tr style=\"text-align: right;\">\n",
       "      <th></th>\n",
       "      <th>return</th>\n",
       "      <th>label</th>\n",
       "      <th>pred</th>\n",
       "      <th>won</th>\n",
       "      <th>pnl</th>\n",
       "      <th>equity</th>\n",
       "    </tr>\n",
       "  </thead>\n",
       "  <tbody>\n",
       "    <tr>\n",
       "      <th>0</th>\n",
       "      <td>0.000182</td>\n",
       "      <td>1</td>\n",
       "      <td>0</td>\n",
       "      <td>False</td>\n",
       "      <td>0.000</td>\n",
       "      <td>0.000</td>\n",
       "    </tr>\n",
       "    <tr>\n",
       "      <th>1</th>\n",
       "      <td>-0.000117</td>\n",
       "      <td>0</td>\n",
       "      <td>0</td>\n",
       "      <td>True</td>\n",
       "      <td>0.000</td>\n",
       "      <td>0.000</td>\n",
       "    </tr>\n",
       "    <tr>\n",
       "      <th>2</th>\n",
       "      <td>-0.000053</td>\n",
       "      <td>1</td>\n",
       "      <td>1</td>\n",
       "      <td>True</td>\n",
       "      <td>-0.055</td>\n",
       "      <td>-0.055</td>\n",
       "    </tr>\n",
       "    <tr>\n",
       "      <th>3</th>\n",
       "      <td>-0.000120</td>\n",
       "      <td>1</td>\n",
       "      <td>1</td>\n",
       "      <td>True</td>\n",
       "      <td>0.080</td>\n",
       "      <td>0.025</td>\n",
       "    </tr>\n",
       "    <tr>\n",
       "      <th>4</th>\n",
       "      <td>-0.000330</td>\n",
       "      <td>1</td>\n",
       "      <td>1</td>\n",
       "      <td>True</td>\n",
       "      <td>0.500</td>\n",
       "      <td>0.525</td>\n",
       "    </tr>\n",
       "    <tr>\n",
       "      <th>...</th>\n",
       "      <td>...</td>\n",
       "      <td>...</td>\n",
       "      <td>...</td>\n",
       "      <td>...</td>\n",
       "      <td>...</td>\n",
       "      <td>...</td>\n",
       "    </tr>\n",
       "    <tr>\n",
       "      <th>304</th>\n",
       "      <td>-0.000100</td>\n",
       "      <td>1</td>\n",
       "      <td>1</td>\n",
       "      <td>True</td>\n",
       "      <td>0.040</td>\n",
       "      <td>4.795</td>\n",
       "    </tr>\n",
       "    <tr>\n",
       "      <th>305</th>\n",
       "      <td>-0.000575</td>\n",
       "      <td>1</td>\n",
       "      <td>1</td>\n",
       "      <td>True</td>\n",
       "      <td>0.990</td>\n",
       "      <td>5.785</td>\n",
       "    </tr>\n",
       "    <tr>\n",
       "      <th>306</th>\n",
       "      <td>-0.000328</td>\n",
       "      <td>1</td>\n",
       "      <td>0</td>\n",
       "      <td>False</td>\n",
       "      <td>0.000</td>\n",
       "      <td>5.785</td>\n",
       "    </tr>\n",
       "    <tr>\n",
       "      <th>307</th>\n",
       "      <td>-0.000438</td>\n",
       "      <td>1</td>\n",
       "      <td>1</td>\n",
       "      <td>True</td>\n",
       "      <td>0.715</td>\n",
       "      <td>6.500</td>\n",
       "    </tr>\n",
       "    <tr>\n",
       "      <th>308</th>\n",
       "      <td>-0.000490</td>\n",
       "      <td>0</td>\n",
       "      <td>0</td>\n",
       "      <td>True</td>\n",
       "      <td>0.000</td>\n",
       "      <td>6.500</td>\n",
       "    </tr>\n",
       "  </tbody>\n",
       "</table>\n",
       "<p>309 rows × 6 columns</p>\n",
       "</div>"
      ],
      "text/plain": [
       "       return  label  pred    won    pnl  equity\n",
       "0    0.000182      1     0  False  0.000   0.000\n",
       "1   -0.000117      0     0   True  0.000   0.000\n",
       "2   -0.000053      1     1   True -0.055  -0.055\n",
       "3   -0.000120      1     1   True  0.080   0.025\n",
       "4   -0.000330      1     1   True  0.500   0.525\n",
       "..        ...    ...   ...    ...    ...     ...\n",
       "304 -0.000100      1     1   True  0.040   4.795\n",
       "305 -0.000575      1     1   True  0.990   5.785\n",
       "306 -0.000328      1     0  False  0.000   5.785\n",
       "307 -0.000438      1     1   True  0.715   6.500\n",
       "308 -0.000490      0     0   True  0.000   6.500\n",
       "\n",
       "[309 rows x 6 columns]"
      ]
     },
     "execution_count": 38,
     "metadata": {},
     "output_type": "execute_result"
    }
   ],
   "source": [
    "df_trade"
   ]
  },
  {
   "cell_type": "code",
   "execution_count": 39,
   "metadata": {
    "scrolled": false
   },
   "outputs": [
    {
     "name": "stdout",
     "output_type": "stream",
     "text": [
      "Profit Net         : $6.50\n",
      "Nombre de prédictions justes : 102\n",
      "Number de prédictions fausses  : 123\n",
      "Précision    : 45.33%\n",
      "Moyenne par Transaction Gagnée       : $0.752\n",
      "Moyenne par Transaction Perdue        : $-0.570\n",
      "Gain le plus important    : $2.955\n",
      "Perte la plus importante  : $-2.385\n"
     ]
    },
    {
     "data": {
      "text/plain": [
       "<matplotlib.axes._subplots.AxesSubplot at 0x2a944d24588>"
      ]
     },
     "execution_count": 39,
     "metadata": {},
     "output_type": "execute_result"
    },
    {
     "data": {
      "image/png": "[encoded data removed]",
      "text/plain": [
       "<Figure size 432x288 with 1 Axes>"
      ]
     },
     "metadata": {
      "needs_background": "light"
     },
     "output_type": "display_data"
    }
   ],
   "source": [
    "n_win_trades = float(df_trade[df_trade['pnl']>0.0]['pnl'].count())\n",
    "n_los_trades = float(df_trade[df_trade['pnl']<0.0]['pnl'].count())\n",
    "print(\"Profit Net         : $%.2f\" % df_trade.tail(1)['equity'])\n",
    "print(\"Nombre de prédictions justes : %d\" % n_win_trades)\n",
    "print(\"Number de prédictions fausses  : %d\" % n_los_trades)\n",
    "print(\"Précision    : %.2f%%\" % (100*n_win_trades/(n_win_trades + n_los_trades)))\n",
    "print(\"Moyenne par Transaction Gagnée       : $%.3f\" % df_trade[df_trade['pnl']>0.0]['pnl'].mean())\n",
    "print(\"Moyenne par Transaction Perdue        : $%.3f\" % df_trade[df_trade['pnl']<0.0]['pnl'].mean())\n",
    "print(\"Gain le plus important    : $%.3f\" % df_trade[df_trade['pnl']>0.0]['pnl'].max())\n",
    "print(\"Perte la plus importante  : $%.3f\" % df_trade[df_trade['pnl']<0.0]['pnl'].min())\n",
    "\n",
    "df_trade['pnl'].hist(bins=20)"
   ]
  },
  {
   "cell_type": "code",
   "execution_count": 28,
   "metadata": {},
   "outputs": [],
   "source": [
    "model.save(f'Modeles/RNN_{time.time()}',save_format='h5')"
   ]
  },
  {
   "cell_type": "code",
   "execution_count": 29,
   "metadata": {},
   "outputs": [
    {
     "name": "stdout",
     "output_type": "stream",
     "text": [
      "Model: \"sequential\"\n",
      "_________________________________________________________________\n",
      "Layer (type)                 Output Shape              Param #   \n",
      "=================================================================\n",
      "lstm (LSTM)                  (None, 60, 128)           67072     \n",
      "_________________________________________________________________\n",
      "batch_normalization (BatchNo (None, 60, 128)           512       \n",
      "_________________________________________________________________\n",
      "lstm_1 (LSTM)                (None, 60, 64)            49408     \n",
      "_________________________________________________________________\n",
      "batch_normalization_1 (Batch (None, 60, 64)            256       \n",
      "_________________________________________________________________\n",
      "lstm_2 (LSTM)                (None, 64)                33024     \n",
      "_________________________________________________________________\n",
      "batch_normalization_2 (Batch (None, 64)                256       \n",
      "_________________________________________________________________\n",
      "dense (Dense)                (None, 32)                2080      \n",
      "_________________________________________________________________\n",
      "dense_1 (Dense)              (None, 16)                528       \n",
      "_________________________________________________________________\n",
      "dense_2 (Dense)              (None, 8)                 136       \n",
      "_________________________________________________________________\n",
      "dense_3 (Dense)              (None, 2)                 18        \n",
      "=================================================================\n",
      "Total params: 153,290\n",
      "Trainable params: 152,778\n",
      "Non-trainable params: 512\n",
      "_________________________________________________________________\n"
     ]
    },
    {
     "data": {
      "image/png": "[encoded data removed]",
      "text/plain": [
       "<IPython.core.display.Image object>"
      ]
     },
     "execution_count": 29,
     "metadata": {},
     "output_type": "execute_result"
    }
   ],
   "source": [
    "from tensorflow.keras.utils import plot_model\n",
    "model.summary()\n",
    "plot_model(model, 'model.png', show_shapes=True)"
   ]
  },
  {
   "cell_type": "code",
   "execution_count": null,
   "metadata": {},
   "outputs": [],
   "source": []
  }
 ],
 "metadata": {
  "kernelspec": {
   "display_name": "Python 3",
   "language": "python",
   "name": "python3"
  },
  "language_info": {
   "codemirror_mode": {
    "name": "ipython",
    "version": 3
   },
   "file_extension": ".py",
   "mimetype": "text/x-python",
   "name": "python",
   "nbconvert_exporter": "python",
   "pygments_lexer": "ipython3",
   "version": "3.7.7"
  }
 },
 "nbformat": 4,
 "nbformat_minor": 4
}